{
  "nbformat": 4,
  "nbformat_minor": 0,
  "metadata": {
    "colab": {
      "name": "(練習)newspaper3による記事情報の抽出.ipynb",
      "provenance": [],
      "authorship_tag": "ABX9TyMhjWeiSrZJBN+i0u0aTZs9",
      "include_colab_link": true
    },
    "kernelspec": {
      "name": "python3",
      "display_name": "Python 3"
    },
    "language_info": {
      "name": "python"
    }
  },
  "cells": [
    {
      "cell_type": "markdown",
      "metadata": {
        "id": "view-in-github",
        "colab_type": "text"
      },
      "source": [
        "<a href=\"https://colab.research.google.com/github/Tommy-somen/scraping/blob/master/(%E7%B7%B4%E7%BF%92)newspaper3%E3%81%AB%E3%82%88%E3%82%8B%E8%A8%98%E4%BA%8B%E6%83%85%E5%A0%B1%E3%81%AE%E6%8A%BD%E5%87%BA.ipynb\" target=\"_parent\"><img src=\"https://colab.research.google.com/assets/colab-badge.svg\" alt=\"Open In Colab\"/></a>"
      ]
    },
    {
      "cell_type": "markdown",
      "source": [
        "#newspaper3k\n",
        "スクレイピング用ライブラリで,\\\n",
        "HTMLのテキストデータを抽出することに特化している"
      ],
      "metadata": {
        "id": "yPHlAI3iDmzh"
      }
    },
    {
      "cell_type": "markdown",
      "source": [
        "# newspaper3kをインストールする"
      ],
      "metadata": {
        "id": "9m_J4JWcCxKd"
      }
    },
    {
      "cell_type": "code",
      "source": [
        "!pip install newspaper3k"
      ],
      "metadata": {
        "colab": {
          "base_uri": "https://localhost:8080/"
        },
        "id": "ztuGWs2oE3NN",
        "outputId": "2209d42f-d1f4-43b6-f2f1-4f5da81abb1b"
      },
      "execution_count": 2,
      "outputs": [
        {
          "output_type": "stream",
          "name": "stdout",
          "text": [
            "Collecting newspaper3k\n",
            "  Downloading newspaper3k-0.2.8-py3-none-any.whl (211 kB)\n",
            "\u001b[?25l\r\u001b[K     |█▌                              | 10 kB 26.3 MB/s eta 0:00:01\r\u001b[K     |███                             | 20 kB 32.8 MB/s eta 0:00:01\r\u001b[K     |████▋                           | 30 kB 39.9 MB/s eta 0:00:01\r\u001b[K     |██████▏                         | 40 kB 16.7 MB/s eta 0:00:01\r\u001b[K     |███████▊                        | 51 kB 12.1 MB/s eta 0:00:01\r\u001b[K     |█████████▎                      | 61 kB 13.5 MB/s eta 0:00:01\r\u001b[K     |██████████▉                     | 71 kB 11.4 MB/s eta 0:00:01\r\u001b[K     |████████████▍                   | 81 kB 12.4 MB/s eta 0:00:01\r\u001b[K     |██████████████                  | 92 kB 13.8 MB/s eta 0:00:01\r\u001b[K     |███████████████▌                | 102 kB 13.9 MB/s eta 0:00:01\r\u001b[K     |█████████████████               | 112 kB 13.9 MB/s eta 0:00:01\r\u001b[K     |██████████████████▋             | 122 kB 13.9 MB/s eta 0:00:01\r\u001b[K     |████████████████████▏           | 133 kB 13.9 MB/s eta 0:00:01\r\u001b[K     |█████████████████████▊          | 143 kB 13.9 MB/s eta 0:00:01\r\u001b[K     |███████████████████████▎        | 153 kB 13.9 MB/s eta 0:00:01\r\u001b[K     |████████████████████████▉       | 163 kB 13.9 MB/s eta 0:00:01\r\u001b[K     |██████████████████████████▍     | 174 kB 13.9 MB/s eta 0:00:01\r\u001b[K     |████████████████████████████    | 184 kB 13.9 MB/s eta 0:00:01\r\u001b[K     |█████████████████████████████▌  | 194 kB 13.9 MB/s eta 0:00:01\r\u001b[K     |███████████████████████████████ | 204 kB 13.9 MB/s eta 0:00:01\r\u001b[K     |████████████████████████████████| 211 kB 13.9 MB/s \n",
            "\u001b[?25hRequirement already satisfied: nltk>=3.2.1 in /usr/local/lib/python3.7/dist-packages (from newspaper3k) (3.2.5)\n",
            "Collecting tldextract>=2.0.1\n",
            "  Downloading tldextract-3.1.2-py2.py3-none-any.whl (87 kB)\n",
            "\u001b[K     |████████████████████████████████| 87 kB 4.9 MB/s \n",
            "\u001b[?25hRequirement already satisfied: python-dateutil>=2.5.3 in /usr/local/lib/python3.7/dist-packages (from newspaper3k) (2.8.2)\n",
            "Collecting tinysegmenter==0.3\n",
            "  Downloading tinysegmenter-0.3.tar.gz (16 kB)\n",
            "Collecting cssselect>=0.9.2\n",
            "  Downloading cssselect-1.1.0-py2.py3-none-any.whl (16 kB)\n",
            "Collecting jieba3k>=0.35.1\n",
            "  Downloading jieba3k-0.35.1.zip (7.4 MB)\n",
            "\u001b[K     |████████████████████████████████| 7.4 MB 48.8 MB/s \n",
            "\u001b[?25hRequirement already satisfied: Pillow>=3.3.0 in /usr/local/lib/python3.7/dist-packages (from newspaper3k) (7.1.2)\n",
            "Requirement already satisfied: beautifulsoup4>=4.4.1 in /usr/local/lib/python3.7/dist-packages (from newspaper3k) (4.6.3)\n",
            "Requirement already satisfied: lxml>=3.6.0 in /usr/local/lib/python3.7/dist-packages (from newspaper3k) (4.2.6)\n",
            "Requirement already satisfied: requests>=2.10.0 in /usr/local/lib/python3.7/dist-packages (from newspaper3k) (2.23.0)\n",
            "Collecting feedfinder2>=0.0.4\n",
            "  Downloading feedfinder2-0.0.4.tar.gz (3.3 kB)\n",
            "Collecting feedparser>=5.2.1\n",
            "  Downloading feedparser-6.0.8-py3-none-any.whl (81 kB)\n",
            "\u001b[K     |████████████████████████████████| 81 kB 6.7 MB/s \n",
            "\u001b[?25hRequirement already satisfied: PyYAML>=3.11 in /usr/local/lib/python3.7/dist-packages (from newspaper3k) (3.13)\n",
            "Requirement already satisfied: six in /usr/local/lib/python3.7/dist-packages (from feedfinder2>=0.0.4->newspaper3k) (1.15.0)\n",
            "Collecting sgmllib3k\n",
            "  Downloading sgmllib3k-1.0.0.tar.gz (5.8 kB)\n",
            "Requirement already satisfied: certifi>=2017.4.17 in /usr/local/lib/python3.7/dist-packages (from requests>=2.10.0->newspaper3k) (2021.10.8)\n",
            "Requirement already satisfied: idna<3,>=2.5 in /usr/local/lib/python3.7/dist-packages (from requests>=2.10.0->newspaper3k) (2.10)\n",
            "Requirement already satisfied: chardet<4,>=3.0.2 in /usr/local/lib/python3.7/dist-packages (from requests>=2.10.0->newspaper3k) (3.0.4)\n",
            "Requirement already satisfied: urllib3!=1.25.0,!=1.25.1,<1.26,>=1.21.1 in /usr/local/lib/python3.7/dist-packages (from requests>=2.10.0->newspaper3k) (1.24.3)\n",
            "Requirement already satisfied: filelock>=3.0.8 in /usr/local/lib/python3.7/dist-packages (from tldextract>=2.0.1->newspaper3k) (3.4.2)\n",
            "Collecting requests-file>=1.4\n",
            "  Downloading requests_file-1.5.1-py2.py3-none-any.whl (3.7 kB)\n",
            "Building wheels for collected packages: tinysegmenter, feedfinder2, jieba3k, sgmllib3k\n",
            "  Building wheel for tinysegmenter (setup.py) ... \u001b[?25l\u001b[?25hdone\n",
            "  Created wheel for tinysegmenter: filename=tinysegmenter-0.3-py3-none-any.whl size=13553 sha256=1a6a303ad51139b417d72f79cc89c11b0e422ba40d9dbf8280eb8be88f8433a1\n",
            "  Stored in directory: /root/.cache/pip/wheels/df/67/41/faca10fa501ca010be41b49d40360c2959e1c4f09bcbfa37fa\n",
            "  Building wheel for feedfinder2 (setup.py) ... \u001b[?25l\u001b[?25hdone\n",
            "  Created wheel for feedfinder2: filename=feedfinder2-0.0.4-py3-none-any.whl size=3357 sha256=193284f21fc4dbf08fbc5c0e0195da2f60554c6ddbe449c16fe63c895453027b\n",
            "  Stored in directory: /root/.cache/pip/wheels/7f/d4/8f/6e2ca54744c9d7292d88ddb8d42876bcdab5e6d84a21c10346\n",
            "  Building wheel for jieba3k (setup.py) ... \u001b[?25l\u001b[?25hdone\n",
            "  Created wheel for jieba3k: filename=jieba3k-0.35.1-py3-none-any.whl size=7398404 sha256=63db9a1dc487419e674ad2e51bedc932770e18cd175bb7a169d01816c659b5ba\n",
            "  Stored in directory: /root/.cache/pip/wheels/4c/91/46/3c208287b726df325a5979574324878b679116e4baae1af3c3\n",
            "  Building wheel for sgmllib3k (setup.py) ... \u001b[?25l\u001b[?25hdone\n",
            "  Created wheel for sgmllib3k: filename=sgmllib3k-1.0.0-py3-none-any.whl size=6066 sha256=8ccf0b87a521a0649d1adf5cfb92f88bb18e684945723bb6b2920dd4309a6868\n",
            "  Stored in directory: /root/.cache/pip/wheels/73/ad/a4/0dff4a6ef231fc0dfa12ffbac2a36cebfdddfe059f50e019aa\n",
            "Successfully built tinysegmenter feedfinder2 jieba3k sgmllib3k\n",
            "Installing collected packages: sgmllib3k, requests-file, tldextract, tinysegmenter, jieba3k, feedparser, feedfinder2, cssselect, newspaper3k\n",
            "Successfully installed cssselect-1.1.0 feedfinder2-0.0.4 feedparser-6.0.8 jieba3k-0.35.1 newspaper3k-0.2.8 requests-file-1.5.1 sgmllib3k-1.0.0 tinysegmenter-0.3 tldextract-3.1.2\n"
          ]
        }
      ]
    },
    {
      "cell_type": "markdown",
      "source": [
        "## newspaperからArticleインスタンスをインポート"
      ],
      "metadata": {
        "id": "OaQDCEKEFnO9"
      }
    },
    {
      "cell_type": "code",
      "source": [
        "from newspaper import Article"
      ],
      "metadata": {
        "id": "ceZ5JAftEgsP"
      },
      "execution_count": 3,
      "outputs": []
    },
    {
      "cell_type": "markdown",
      "source": [
        "# 1. 単一記事から取得する"
      ],
      "metadata": {
        "id": "_5Bq0m8ddoXJ"
      }
    },
    {
      "cell_type": "markdown",
      "source": [
        "## 1-1. ロイターニュースで練習する"
      ],
      "metadata": {
        "id": "A0yADiDUTyAR"
      }
    },
    {
      "cell_type": "code",
      "source": [
        "#ロイターニュースの記事を用いて練習する\n",
        "url = \"https://jp.reuters.com/article/tokyo-stx-close-idJPKBN2KL0HM\""
      ],
      "metadata": {
        "id": "UBgUgzFHMPtI"
      },
      "execution_count": 4,
      "outputs": []
    },
    {
      "cell_type": "code",
      "source": [
        "#インスタンスを作成\n",
        "article = Article(url,memorize_articles=False)"
      ],
      "metadata": {
        "id": "CoWN2cWQEnD-"
      },
      "execution_count": 5,
      "outputs": []
    },
    {
      "cell_type": "code",
      "source": [
        "#URLの内容を取得\n",
        "article.download()"
      ],
      "metadata": {
        "id": "M6NqpfsyMUpo"
      },
      "execution_count": 6,
      "outputs": []
    },
    {
      "cell_type": "code",
      "source": [
        "#記事の解析を行う\n",
        "article.parse()"
      ],
      "metadata": {
        "id": "VKguaHtTMn8e"
      },
      "execution_count": 7,
      "outputs": []
    },
    {
      "cell_type": "markdown",
      "source": [
        "### 1-1-1. 一般的な解析\n",
        "- タイトル\n",
        "- 本文\n",
        "- 出版日\n",
        "- 筆者"
      ],
      "metadata": {
        "id": "54mOLg5gW28_"
      }
    },
    {
      "cell_type": "code",
      "source": [
        "#記事のタイトルを表示\n",
        "article.title"
      ],
      "metadata": {
        "colab": {
          "base_uri": "https://localhost:8080/",
          "height": 35
        },
        "id": "5Of7okYxWU_2",
        "outputId": "581f5c19-c619-4ecf-de01-43ee6716c2cb"
      },
      "execution_count": 8,
      "outputs": [
        {
          "output_type": "execute_result",
          "data": {
            "application/vnd.google.colaboratory.intrinsic+json": {
              "type": "string"
            },
            "text/plain": [
              "'日経平均は大幅反発、地政学リスクへの過度な警戒感が緩和'"
            ]
          },
          "metadata": {},
          "execution_count": 8
        }
      ]
    },
    {
      "cell_type": "code",
      "source": [
        "#記事の本文を表示\n",
        "article.text"
      ],
      "metadata": {
        "colab": {
          "base_uri": "https://localhost:8080/",
          "height": 261
        },
        "id": "S7p-w8W7NSUN",
        "outputId": "531f0121-277d-47bc-e407-68ec864b3e8b"
      },
      "execution_count": 9,
      "outputs": [
        {
          "output_type": "execute_result",
          "data": {
            "application/vnd.google.colaboratory.intrinsic+json": {
              "type": "string"
            },
            "text/plain": [
              "'［東京 １６日 ロイター］ - 東京株式市場で、日経平均は前営業日比５９５円２１銭高の２万７４６０円４０銭と、大幅に反発して取引を終えた。ウクライナを巡る地政学リスクに対する過度な警戒感が和らいで、米国市場でリスクオンムードが広がった流れを引き継いだ。主力株や半導体関連株を中心に買い戻す動きが相場を牽引した。\\n\\n２月１６日、東京株式市場で、日経平均は前営業日比５９５円２１銭高の２万７４６０円４０銭と、大幅に反発して取引を終えた。写真は都内にある株価ボード。２０２０年１０月に撮影（２０２２年 ロイター/Issei Kato）\\n\\n日経平均は約４００円高と反発して寄り付いた後も上げ幅を拡大した。午後にかけても断続的な買いが継続して高値を維持し、一時前営業日比６２０円９０銭高の２万７４８６円０９銭の高値をつけた。米市場でハイテク比率の高いナスダック総合やフィラデルフィア半導体指数（ＳＯＸ指数）が大幅高となる中、半導体関連や電子部品の買い戻しが広がり、指数を押し上げた。\\n\\nもっとも、地政学リスクは払拭されてはおらず、米金融引き締め加速への警戒感もくすぶっている。米連邦公開市場委員会（ＦＯＭＣ）議事要旨（１月２５─２６日開催分）や米１月小売売上高の発表を前に、日経平均は２５日移動平均線（２万７４７４円４３銭＝１６日）付近で上値が抑えられた。\\n\\n米連邦準備理事会（ＦＲＢ）による金融引き締めは、市場の織り込みが進んできているものの、前回の議事要旨発表時に相場が荒れた経緯もあって警戒感は根強い。１月分の議事要旨については「内容に大きなサプライズはないとみているが、市場の反応を見極めたい」（ピクテ投信投資顧問の糸島孝俊ストラテジスト）との声が聞かれた。\\n\\nＴＯＰＩＸは１．６７％高の１９４６．６３ポイントで取引を終了。東証１部の売買代金は２兆８２４６億９７００万円だった。東証３３業種では、３１業種が上昇。上昇率上位にはゴム製品や海運業、空運業が並んだ。下落したのは鉱業と石油・石炭製品の２業種だった。\\n\\n個別では、東京エレクトロン、ファーストリテイリング、アドバンテストなどの値がさ株の上昇が日経平均の押し上げに寄与した。前日に自社株買いを発表したブリヂストンは大幅高。一方、住友金属鉱山やＩＮＰＥＸ、出光興産、キーエンスは下落した。\\n\\n東証１部の騰落数は、値上がりは１７９２銘柄（８２％）、値下がりは３２０銘柄（１４％）、変わらずは７０銘柄（３％）だった。\\n\\n終値 前日比 寄り付き 安値／高値\\n\\n日経平均 27460.40 +595.21 27269.05 27,227.24─27,486.09\\n\\nＴＯＰＩＸ 1946.63 +31.93 1941.68 1,938.32─1,948.19\\n\\n東証出来高(万株) 115578 東証売買代金(億円) 28246.97'"
            ]
          },
          "metadata": {},
          "execution_count": 9
        }
      ]
    },
    {
      "cell_type": "code",
      "source": [
        "#出版日の表示\n",
        "article.publish_date"
      ],
      "metadata": {
        "colab": {
          "base_uri": "https://localhost:8080/"
        },
        "id": "gBHrqC8HMqBe",
        "outputId": "68f65b12-d787-4742-853d-cefe948e94ef"
      },
      "execution_count": 10,
      "outputs": [
        {
          "output_type": "execute_result",
          "data": {
            "text/plain": [
              "datetime.datetime(2022, 2, 16, 6, 43, 10, tzinfo=tzlocal())"
            ]
          },
          "metadata": {},
          "execution_count": 10
        }
      ]
    },
    {
      "cell_type": "code",
      "source": [
        "#筆者を表示\n",
        "article.authors"
      ],
      "metadata": {
        "colab": {
          "base_uri": "https://localhost:8080/"
        },
        "id": "fVdayjFZM5Ih",
        "outputId": "ca19fe40-2bb2-4e69-aa99-3da34d978860"
      },
      "execution_count": 11,
      "outputs": [
        {
          "output_type": "execute_result",
          "data": {
            "text/plain": [
              "['Reuters Staff']"
            ]
          },
          "metadata": {},
          "execution_count": 11
        }
      ]
    },
    {
      "cell_type": "markdown",
      "source": [
        "### 1-1-2. 自然言語処理を用いた要約"
      ],
      "metadata": {
        "id": "UlRr47PrXlko"
      }
    },
    {
      "cell_type": "code",
      "source": [
        "#自然言語処理を行うライブラリ\n",
        "import nltk"
      ],
      "metadata": {
        "id": "PQLdE2agNb8G"
      },
      "execution_count": 12,
      "outputs": []
    },
    {
      "cell_type": "code",
      "source": [
        "#downloadには\"punkt\"を指定する　<- なぜ？\n",
        "nltk.download(\"punkt\")"
      ],
      "metadata": {
        "colab": {
          "base_uri": "https://localhost:8080/"
        },
        "id": "ehHVL03QYlYn",
        "outputId": "9458560a-97e3-43a5-d70b-041f335ed195"
      },
      "execution_count": 13,
      "outputs": [
        {
          "output_type": "stream",
          "name": "stdout",
          "text": [
            "[nltk_data] Downloading package punkt to /root/nltk_data...\n",
            "[nltk_data]   Unzipping tokenizers/punkt.zip.\n"
          ]
        },
        {
          "output_type": "execute_result",
          "data": {
            "text/plain": [
              "True"
            ]
          },
          "metadata": {},
          "execution_count": 13
        }
      ]
    },
    {
      "cell_type": "code",
      "source": [
        "#自然言語処理を行う際は、.nlp()を実行\n",
        "article.nlp()"
      ],
      "metadata": {
        "id": "vbaGFcF5Zda2"
      },
      "execution_count": 14,
      "outputs": []
    },
    {
      "cell_type": "code",
      "source": [
        "#重要キーワードを取得\n",
        "article.keywords"
      ],
      "metadata": {
        "colab": {
          "base_uri": "https://localhost:8080/"
        },
        "id": "YDTheBhYaLZa",
        "outputId": "f9031631-c797-4b10-ca29-9d91e92f3afd"
      },
      "execution_count": 15,
      "outputs": [
        {
          "output_type": "execute_result",
          "data": {
            "text/plain": [
              "['ロイター',\n",
              " '東証売買代金億円',\n",
              " '前日比',\n",
              " 'ロイターissei',\n",
              " '日経平均は大幅反発地政学リスクへの過度な警戒感が緩和',\n",
              " '寄り付き',\n",
              " '東京株式市場で日経平均は前営業日比５９５円２１銭高の２万７４６０円４０銭と大幅に反発して取引を終えたウクライナを巡る地政学リスクに対する過度な警戒感が和らいで米国市場でリスクオンムードが広がった流れを引き継いだ主力株や半導体関連株を中心に買い戻す動きが相場を牽引した２月１６日東京株式市場で日経平均は前営業日比５９５円２１銭高の２万７４６０円４０銭と大幅に反発して取引を終えた写真は都内にある株価ボード２０２０年１０月に撮影２０２２年',\n",
              " '１６日',\n",
              " '安値高値日経平均',\n",
              " 'kato日経平均は約４００円高と反発して寄り付いた後も上げ幅を拡大した午後にかけても断続的な買いが継続して高値を維持し一時前営業日比６２０円９０銭高の２万７４８６円０９銭の高値をつけた米市場でハイテク比率の高いナスダック総合やフィラデルフィア半導体指数ｓｏｘ指数が大幅高となる中半導体関連や電子部品の買い戻しが広がり指数を押し上げたもっとも地政学リスクは払拭されてはおらず米金融引き締め加速への警戒感もくすぶっている米連邦公開市場委員会ｆｏｍｃ議事要旨１月２５２６日開催分や米１月小売売上高の発表を前に日経平均は２５日移動平均線２万７４７４円４３銭１６日付近で上値が抑えられた米連邦準備理事会ｆｒｂによる金融引き締めは市場の織り込みが進んできているものの前回の議事要旨発表時に相場が荒れた経緯もあって警戒感は根強い１月分の議事要旨については内容に大きなサプライズはないとみているが市場の反応を見極めたいピクテ投信投資顧問の糸島孝俊ストラテジストとの声が聞かれたｔｏｐｉｘは１６７高の１９４６６３ポイントで取引を終了東証１部の売買代金は２兆８２４６億９７００万円だった東証３３業種では３１業種が上昇上昇率上位にはゴム製品や海運業空運業が並んだ下落したのは鉱業と石油石炭製品の２業種だった個別では東京エレクトロンファーストリテイリングアドバンテストなどの値がさ株の上昇が日経平均の押し上げに寄与した前日に自社株買いを発表したブリヂストンは大幅高一方住友金属鉱山やｉｎｐｅｘ出光興産キーエンスは下落した東証１部の騰落数は値上がりは１７９２銘柄８２値下がりは３２０銘柄１４変わらずは７０銘柄３だった終値',\n",
              " '東京']"
            ]
          },
          "metadata": {},
          "execution_count": 15
        }
      ]
    },
    {
      "cell_type": "code",
      "source": [
        "# ->> 日本語の要約をする場合は、tinysegmenter(0.3)を適用する必要がある\n",
        "!pip install tinysegmenter==0.3"
      ],
      "metadata": {
        "colab": {
          "base_uri": "https://localhost:8080/"
        },
        "id": "U0qzxrW0g7rX",
        "outputId": "ea3e66fe-85c7-4222-8edd-47b283a9c02f"
      },
      "execution_count": 16,
      "outputs": [
        {
          "output_type": "stream",
          "name": "stdout",
          "text": [
            "Requirement already satisfied: tinysegmenter==0.3 in /usr/local/lib/python3.7/dist-packages (0.3)\n"
          ]
        }
      ]
    },
    {
      "cell_type": "code",
      "source": [
        "#本文からサマリーを作成する\n",
        "article.summary"
      ],
      "metadata": {
        "colab": {
          "base_uri": "https://localhost:8080/",
          "height": 296
        },
        "id": "_txRYYXNaUbz",
        "outputId": "201a3a0e-3c85-4189-c9aa-ab0edc5bee3f"
      },
      "execution_count": 17,
      "outputs": [
        {
          "output_type": "execute_result",
          "data": {
            "application/vnd.google.colaboratory.intrinsic+json": {
              "type": "string"
            },
            "text/plain": [
              "'［東京 １６日 ロイター］ - 東京株式市場で、日経平均は前営業日比５９５円２１銭高の２万７４６０円４０銭と、大幅に反発して取引を終えた。ウクライナを巡る地政学リスクに対する過度な警戒感が和らいで、米国市場でリスクオンムードが広がった流れを引き継いだ。主力株や半導体関連株を中心に買い戻す動きが相場を牽引した。２月１６日、東京株式市場で、日経平均は前営業日比５９５円２１銭高の２万７４６０円４０銭と、大幅に反発して取引を終えた。写真は都内にある株価ボード。２０２０年１０月に撮影（２０２２年 ロイター/Issei Kato）日経平均は約４００円高と反発して寄り付いた後も上げ幅を拡大した。午後にかけても断続的な買いが継続して高値を維持し、一時前営業日比６２０円９０銭高の２万７４８６円０９銭の高値をつけた。米市場でハイテク比率の高いナスダック総合やフィラデルフィア半導体指数（ＳＯＸ指数）が大幅高となる中、半導体関連や電子部品の買い戻しが広がり、指数を押し上げた。もっとも、地政学リスクは払拭されてはおらず、米金融引き締め加速への警戒感もくすぶっている。米連邦公開市場委員会（ＦＯＭＣ）議事要旨（１月２５─２６日開催分）や米１月小売売上高の発表を前に、日経平均は２５日移動平均線（２万７４７４円４３銭＝１６日）付近で上値が抑えられた。米連邦準備理事会（ＦＲＢ）による金融引き締めは、市場の織り込みが進んできているものの、前回の議事要旨発表時に相場が荒れた経緯もあって警戒感は根強い。１月分の議事要旨については「内容に大きなサプライズはないとみているが、市場の反応を見極めたい」（ピクテ投信投資顧問の糸島孝俊ストラテジスト）との声が聞かれた。ＴＯＰＩＸは１．６７％高の１９４６．６３ポイントで取引を終了。東証１部の売買代金は２兆８２４６億９７００万円だった。東証３３業種では、３１業種が上昇。上昇率上位にはゴム製品や海運業、空運業が並んだ。下落したのは鉱業と石油・石炭製品の２業種だった。個別では、東京エレクトロン、ファーストリテイリング、アドバンテストなどの値がさ株の上昇が日経平均の押し上げに寄与した。前日に自社株買いを発表したブリヂストンは大幅高。一方、住友金属鉱山やＩＮＰＥＸ、出光興産、キーエンスは下落した。東証１部の騰落数は、値上がりは１７９２銘柄（８２％）、値下がりは３２０銘柄（１４％）、変わらずは７０銘柄（３％）だった。終値 前日比 寄り付き 安値／高値日経平均 27460.40 +595.21 27269.05 27,227.24─27,486.09ＴＯＰＩＸ 1946.63 +31.93 1941.68 1,938.32─1,948.19東証出来高(万株) 115578 東証売買代金(億円) 28246.97'"
            ]
          },
          "metadata": {},
          "execution_count": 17
        }
      ]
    },
    {
      "cell_type": "markdown",
      "source": [
        "# 2. 複数記事から取得する"
      ],
      "metadata": {
        "id": "z9Ir4CPedt20"
      }
    },
    {
      "cell_type": "markdown",
      "source": [
        "## 2-1. ロイター通信の記事の一覧から、タイトル、URL、出版日、筆者、本文を取得する"
      ],
      "metadata": {
        "id": "K4ST9jxld8bO"
      }
    },
    {
      "cell_type": "code",
      "source": [
        "import newspaper"
      ],
      "metadata": {
        "id": "yhKRLNmFe3-e"
      },
      "execution_count": 18,
      "outputs": []
    },
    {
      "cell_type": "code",
      "source": [
        "url = \"https://jp.reuters.com/\""
      ],
      "metadata": {
        "id": "tXbxwcgbhq6i"
      },
      "execution_count": 23,
      "outputs": []
    },
    {
      "cell_type": "code",
      "source": [
        "#トップページを取得\n",
        "toppage = newspaper.build(url,memorize_articles=False)"
      ],
      "metadata": {
        "id": "abYHbhVlhvML"
      },
      "execution_count": 24,
      "outputs": []
    },
    {
      "cell_type": "code",
      "source": [
        "#トップページに存在する記事を取得\n",
        "toppage.articles"
      ],
      "metadata": {
        "colab": {
          "base_uri": "https://localhost:8080/"
        },
        "id": "botPjGtdh46d",
        "outputId": "f4a7131d-38a3-4041-a32e-98e3075ff99d"
      },
      "execution_count": 25,
      "outputs": [
        {
          "output_type": "execute_result",
          "data": {
            "text/plain": [
              "[<newspaper.article.Article at 0x7f99504ad850>,\n",
              " <newspaper.article.Article at 0x7f994da9bd10>,\n",
              " <newspaper.article.Article at 0x7f994dd48b50>,\n",
              " <newspaper.article.Article at 0x7f994de4f990>,\n",
              " <newspaper.article.Article at 0x7f994de4fad0>,\n",
              " <newspaper.article.Article at 0x7f994e00efd0>,\n",
              " <newspaper.article.Article at 0x7f994ddcd450>]"
            ]
          },
          "metadata": {},
          "execution_count": 25
        }
      ]
    },
    {
      "cell_type": "code",
      "source": [
        "#結果を格納するリスト\n",
        "result = []\n",
        "\n",
        "#繰り返し文により、記事を一つずつ取得し、情報の取得を行う\n",
        "for article in toppage.articles:\n",
        "  #内容の取得\n",
        "  article.download()\n",
        "  #内容の解析\n",
        "  article.parse()\n",
        "  #自然言語処理\n",
        "  article.nlp()\n",
        "\n",
        "  #内容の格納\n",
        "  result.append([article.title, article.url, article.publish_date, article.authors, article.summary])\n",
        "\n",
        "  print(\"#######################\")\n",
        "  print(\"タイトル：\", article.title)\n",
        "  print(\"URL：\", article.url)\n",
        "  print(\"出版日：\", article.publish_date)\n",
        "  print(\"筆者：\", article.authors)\n",
        "  print(\"本文\")\n",
        "  print(article.summary)\n"
      ],
      "metadata": {
        "colab": {
          "base_uri": "https://localhost:8080/"
        },
        "id": "VcePOLKFiT6s",
        "outputId": "a60336ab-73c5-40f5-9684-f1e4ab856ddd"
      },
      "execution_count": 26,
      "outputs": [
        {
          "output_type": "stream",
          "name": "stdout",
          "text": [
            "#######################\n",
            "タイトル： 独ビオンテック、アフリカでのコピーワクチン容認へ＝ＣＥＯ\n",
            "URL： https://jp.reuters.com/article/health-coronavirus-vaccine-biontech-pate-idJPL4N2US0Q6?il=0\n",
            "出版日： 2022-02-17 02:29:02+00:00\n",
            "筆者： ['Reuters Staff']\n",
            "本文\n",
            "［１６日 ロイター］ - ドイツのバイオ医薬品企業ビオンテック のシャヒン最高経営責任者（ＣＥＯ）は１６日、ロイターテレビに対して、同社開発のワクチンについて、アフリカの事業者らが独自に非公式な形で製造する方法を考案した場合、自社の知的財産権を強硬に主張する考えはないと述べた。シャヒン氏は「われわれの目的は他社が当社の技術を使えないようにすることではなく、世界中でできるかぎり安全かつ広く利用できるよう積極的に取り計らうことだ」と語った。\n",
            "#######################\n",
            "タイトル： 〔マーケットアイ〕外為：ユーロ／ドルは1.13ドル後半で上値重い、目先は反発の予想も\n",
            "URL： https://jp.reuters.com/article/tokyo-frx-idJPL4N2US0PN?il=0\n",
            "出版日： 2022-02-17 02:29:02+00:00\n",
            "筆者： ['Reuters Staff']\n",
            "本文\n",
            "［東京 １７日 ロイター］ -＜１１：１６＞ ユーロ／ドルは1.13ドル後半で上値重い、目先は反発の予想もユーロ／ドルは１．１３８１ドル付近でもみあっているが、上値の重さも意識されている。ユーロ／円は１３１．４４円付近での取引。「ウクライナ情勢の緊迫化が嫌気され、欧州通貨の中でもユーロの軟調な地合いが続いている」（国内証券）という。バイデン米政権の高官は１６日、ウクライナ国境付近から軍部隊を撤収しているとのロシアの主張は「誤り」で、実際は部隊を最大７０００人増強しているとの見解を示した。ただ、ウクライナ問題が落ち着けば「金融政策正常化に向かう欧州中央銀行（ＥＣＢ）の動向が再び意識され、ユーロは反発するのではないか」（同）との予想も聞かれた。ドル／円は１１５．４９円付近でじり高となっている。＜０９：１８＞ ドル115円前半で小幅安、米ＦＯＭＣ議事要旨受け弱含みドル／円は１１５．３４円付近と、朝方に比べて小幅安での取引。米１０年債利回りは足元２％付近と高水準で推移している。昨日公表された１月の米連邦公開市場委員会（ＦＯＭＣ）議事要旨は「市場が予想していたほどタカ派的ではなかった」（アナリスト）と受け止められ、ドル売りにつながった。ただ、１月のＦＯＭＣ後に公表された米消費者物価指数（ＣＰＩ）や卸売物価指数（ＰＰＩ）はいずれも強い伸びを示しており、「最近のＦＲＢメンバーは、（１月のＦＯＭＣ時よりも）タカ派傾斜している可能性がある」（同）とも指摘されている。１月２５─２６日のＦＯＭＣ議事要旨では、物価上昇が根付き、雇用が力強い中、金融政策を引き締める時期が来たとの考えが示されていたことが分かった。同時に、決定は毎回の会合で実施するデータ分析に左右されるとの考えが示され、政策担当者が特定の道筋に固執していることを示す明白な兆候はみられなかった。＜０７：４７＞ ドル115.00─116.00円の見通し、上値重い 地政学リスク警戒きょうの予想レンジはドル／円が１１５．００―１１６．００円、ユーロ／ドルが１．１３２０─１．１４２０ドル、ユーロ／円が１３０．８０―１３１．８０円付近。現在、ドル／円は１１５．４４円付近、ユーロ／ドルは１．１３７５ドル付近、ユーロ／円は１３１．３１円付近で推移している。前日のニューヨーク市場では、ドルが下落し、１１日以来の安値を付けた。１月２５─２６日の連邦公開市場委員会（ＦＯＭＣ）議事要旨で、政策当局者が特定の利上げペースに固執していないことが示された。議事要旨の内容は市場が予想していたほどタカ派ではないと受け止められ、ドル売りにつながった。きょうの外為市場でドル／円相場は、上値の重い展開になるとみられ、ドルは１１５円半ばを中心とした推移が予想されている。ウクライナ情勢を巡る情報は錯綜しており、引き続き地政学リスクへの警戒感が意識されそうだ。上田東短フォレックスの営業企画室長・阪井勇蔵氏は「ドルは昨日の高値である１１５．８０円付近では利益確定売りが出やすい一方、米長期金利の高水準での推移が支えとなり、１１５円前半では買いが入りやすいのではないか」と指摘した。今週のドル／円相場は１１５円台での推移が続いており、「ドルの１１６円台定着には、ウクライナ情勢を巡る緊張状態の緩和など、もう少し強い材料が必要だ」（阪井氏）との声も聞かれた。主なスケジュールでは、国内では１月貿易統計（財務省）、２月月例経済報告などが公表される予定。海外では、オーストラリアで１月雇用統計（連邦統計局）、米国で新規失業保険申請件数などが発表されるほか、トルコ中銀が政策金利発表を行う予定となっている。全スポットレート（ロイターデータ）アジアスポットレート（同）欧州スポットレート（同）通貨オプションスポットレート（ロイター・ディーリング約定値）スポットレート（日銀公表）(\n",
            "#######################\n",
            "タイトル： Ｆ１＝レッドブル、暗号資産取引所バイビットとスポンサー契約\n",
            "URL： https://jp.reuters.com/article/motor-f1-redbull-idJPKBN2KM07B\n",
            "出版日： 2022-02-17 02:34:04+00:00\n",
            "筆者： ['Reuters Staff']\n",
            "本文\n",
            "自動車レースＦ１のレッドブルは１６日、暗号資産取引所のバイビット社と複数年のパートナーシップ契約を締結し、国際スポーツ界においてこの分野で過去最高額の提携になったと発表した。写真は昨シーズンのマシン。２０２１年１２月にアブダビで撮影（２０２２年 ロイター）［１６日 ロイター］ - 自動車レースＦ１のレッドブルは１６日、暗号資産取引所のバイビット社と複数年のパートナーシップ契約を締結したと発表した。国際スポーツ界における仮想通貨企業の提携としては過去最高額。レッドブルは契約額の詳細を明らかにしていないが、情報筋によると３年で１億５０００万ドル（約１７３億円）の契約で、「タイトルパートナー」に次ぐ新設の「プリンシパルチームパートナー」になるとしている。レッドブルは先週、ソフトウエア大手オラクルとのタイトルスポンサー契約を発表。関係者によると、契約は５年間で３億ドル相当という。２つの契約の合計は年間１億１０００万ドルとなり、チームの支出を大部分カバーできる。Ｆ１では２０２２年シーズンから予算上限が１億４０００万ドル、２３年以降は１億３５００万ドルに縮小される。\n",
            "#######################\n",
            "タイトル： 独ビオンテック、アフリカでのコピーワクチン容認へ＝ＣＥＯ\n",
            "URL： http://jp.reuters.com/article/health-coronavirus-vaccine-biontech-pate-idJPL4N2US0Q6?il=0\n",
            "出版日： 2022-02-17 02:29:02+00:00\n",
            "筆者： ['Reuters Staff']\n",
            "本文\n",
            "［１６日 ロイター］ - ドイツのバイオ医薬品企業ビオンテック のシャヒン最高経営責任者（ＣＥＯ）は１６日、ロイターテレビに対して、同社開発のワクチンについて、アフリカの事業者らが独自に非公式な形で製造する方法を考案した場合、自社の知的財産権を強硬に主張する考えはないと述べた。シャヒン氏は「われわれの目的は他社が当社の技術を使えないようにすることではなく、世界中でできるかぎり安全かつ広く利用できるよう積極的に取り計らうことだ」と語った。\n",
            "#######################\n",
            "タイトル： 〔マーケットアイ〕外為：ユーロ／ドルは1.13ドル後半で上値重い、目先は反発の予想も\n",
            "URL： http://jp.reuters.com/article/tokyo-frx-idJPL4N2US0PN?il=0\n",
            "出版日： 2022-02-17 02:29:02+00:00\n",
            "筆者： ['Reuters Staff']\n",
            "本文\n",
            "［東京 １７日 ロイター］ -＜１１：１６＞ ユーロ／ドルは1.13ドル後半で上値重い、目先は反発の予想もユーロ／ドルは１．１３８１ドル付近でもみあっているが、上値の重さも意識されている。ユーロ／円は１３１．４４円付近での取引。「ウクライナ情勢の緊迫化が嫌気され、欧州通貨の中でもユーロの軟調な地合いが続いている」（国内証券）という。バイデン米政権の高官は１６日、ウクライナ国境付近から軍部隊を撤収しているとのロシアの主張は「誤り」で、実際は部隊を最大７０００人増強しているとの見解を示した。ただ、ウクライナ問題が落ち着けば「金融政策正常化に向かう欧州中央銀行（ＥＣＢ）の動向が再び意識され、ユーロは反発するのではないか」（同）との予想も聞かれた。ドル／円は１１５．４９円付近でじり高となっている。＜０９：１８＞ ドル115円前半で小幅安、米ＦＯＭＣ議事要旨受け弱含みドル／円は１１５．３４円付近と、朝方に比べて小幅安での取引。米１０年債利回りは足元２％付近と高水準で推移している。昨日公表された１月の米連邦公開市場委員会（ＦＯＭＣ）議事要旨は「市場が予想していたほどタカ派的ではなかった」（アナリスト）と受け止められ、ドル売りにつながった。ただ、１月のＦＯＭＣ後に公表された米消費者物価指数（ＣＰＩ）や卸売物価指数（ＰＰＩ）はいずれも強い伸びを示しており、「最近のＦＲＢメンバーは、（１月のＦＯＭＣ時よりも）タカ派傾斜している可能性がある」（同）とも指摘されている。１月２５─２６日のＦＯＭＣ議事要旨では、物価上昇が根付き、雇用が力強い中、金融政策を引き締める時期が来たとの考えが示されていたことが分かった。同時に、決定は毎回の会合で実施するデータ分析に左右されるとの考えが示され、政策担当者が特定の道筋に固執していることを示す明白な兆候はみられなかった。＜０７：４７＞ ドル115.00─116.00円の見通し、上値重い 地政学リスク警戒きょうの予想レンジはドル／円が１１５．００―１１６．００円、ユーロ／ドルが１．１３２０─１．１４２０ドル、ユーロ／円が１３０．８０―１３１．８０円付近。現在、ドル／円は１１５．４４円付近、ユーロ／ドルは１．１３７５ドル付近、ユーロ／円は１３１．３１円付近で推移している。前日のニューヨーク市場では、ドルが下落し、１１日以来の安値を付けた。１月２５─２６日の連邦公開市場委員会（ＦＯＭＣ）議事要旨で、政策当局者が特定の利上げペースに固執していないことが示された。議事要旨の内容は市場が予想していたほどタカ派ではないと受け止められ、ドル売りにつながった。きょうの外為市場でドル／円相場は、上値の重い展開になるとみられ、ドルは１１５円半ばを中心とした推移が予想されている。ウクライナ情勢を巡る情報は錯綜しており、引き続き地政学リスクへの警戒感が意識されそうだ。上田東短フォレックスの営業企画室長・阪井勇蔵氏は「ドルは昨日の高値である１１５．８０円付近では利益確定売りが出やすい一方、米長期金利の高水準での推移が支えとなり、１１５円前半では買いが入りやすいのではないか」と指摘した。今週のドル／円相場は１１５円台での推移が続いており、「ドルの１１６円台定着には、ウクライナ情勢を巡る緊張状態の緩和など、もう少し強い材料が必要だ」（阪井氏）との声も聞かれた。主なスケジュールでは、国内では１月貿易統計（財務省）、２月月例経済報告などが公表される予定。海外では、オーストラリアで１月雇用統計（連邦統計局）、米国で新規失業保険申請件数などが発表されるほか、トルコ中銀が政策金利発表を行う予定となっている。全スポットレート（ロイターデータ）アジアスポットレート（同）欧州スポットレート（同）通貨オプションスポットレート（ロイター・ディーリング約定値）スポットレート（日銀公表）(\n",
            "#######################\n",
            "タイトル： Ｆ１＝レッドブル、暗号資産取引所バイビットとスポンサー契約\n",
            "URL： http://jp.reuters.com/article/motor-f1-redbull-idJPKBN2KM07B\n",
            "出版日： 2022-02-17 02:34:04+00:00\n",
            "筆者： ['Reuters Staff']\n",
            "本文\n",
            "自動車レースＦ１のレッドブルは１６日、暗号資産取引所のバイビット社と複数年のパートナーシップ契約を締結し、国際スポーツ界においてこの分野で過去最高額の提携になったと発表した。写真は昨シーズンのマシン。２０２１年１２月にアブダビで撮影（２０２２年 ロイター）［１６日 ロイター］ - 自動車レースＦ１のレッドブルは１６日、暗号資産取引所のバイビット社と複数年のパートナーシップ契約を締結したと発表した。国際スポーツ界における仮想通貨企業の提携としては過去最高額。レッドブルは契約額の詳細を明らかにしていないが、情報筋によると３年で１億５０００万ドル（約１７３億円）の契約で、「タイトルパートナー」に次ぐ新設の「プリンシパルチームパートナー」になるとしている。レッドブルは先週、ソフトウエア大手オラクルとのタイトルスポンサー契約を発表。関係者によると、契約は５年間で３億ドル相当という。２つの契約の合計は年間１億１０００万ドルとなり、チームの支出を大部分カバーできる。Ｆ１では２０２２年シーズンから予算上限が１億４０００万ドル、２３年以降は１億３５００万ドルに縮小される。\n",
            "#######################\n",
            "タイトル： Struggles to survive in the Amazon\n",
            "URL： https://widerimage.reuters.com/story/struggles-to-survive-in-the-amazon\n",
            "出版日： None\n",
            "筆者： ['Lunae Parracho']\n",
            "本文\n",
            "The Bravos have carried out raids on other villages, putting communities along the Envira River on permanent alert.\n",
            "A spiritual leader of the Huni Kui Indian tribe blows an herbal powder into the nose of a tribe member during a ceremony.\n",
            "A Huni Kui Indian prepares a drink known as \"nixi pae\" or \"ayahuasca\" to use in a healing ritual.\n",
            "The Ashaninka Indian village Nova Floresta stands on the banks of the Envira river.\n",
            "Uncontacted Indians react to a plane flying over their community in the Amazon basin.\n"
          ]
        }
      ]
    },
    {
      "cell_type": "code",
      "source": [
        "result"
      ],
      "metadata": {
        "id": "x3YH23M5jub8",
        "colab": {
          "base_uri": "https://localhost:8080/"
        },
        "outputId": "0dabb9ff-1789-4d75-a6b9-320c01d41d77"
      },
      "execution_count": 27,
      "outputs": [
        {
          "output_type": "execute_result",
          "data": {
            "text/plain": [
              "[['独ビオンテック、アフリカでのコピーワクチン容認へ＝ＣＥＯ',\n",
              "  'https://jp.reuters.com/article/health-coronavirus-vaccine-biontech-pate-idJPL4N2US0Q6?il=0',\n",
              "  datetime.datetime(2022, 2, 17, 2, 29, 2, tzinfo=tzlocal()),\n",
              "  ['Reuters Staff'],\n",
              "  '［１６日 ロイター］ - ドイツのバイオ医薬品企業ビオンテック のシャヒン最高経営責任者（ＣＥＯ）は１６日、ロイターテレビに対して、同社開発のワクチンについて、アフリカの事業者らが独自に非公式な形で製造する方法を考案した場合、自社の知的財産権を強硬に主張する考えはないと述べた。シャヒン氏は「われわれの目的は他社が当社の技術を使えないようにすることではなく、世界中でできるかぎり安全かつ広く利用できるよう積極的に取り計らうことだ」と語った。'],\n",
              " ['〔マーケットアイ〕外為：ユーロ／ドルは1.13ドル後半で上値重い、目先は反発の予想も',\n",
              "  'https://jp.reuters.com/article/tokyo-frx-idJPL4N2US0PN?il=0',\n",
              "  datetime.datetime(2022, 2, 17, 2, 29, 2, tzinfo=tzlocal()),\n",
              "  ['Reuters Staff'],\n",
              "  '［東京 １７日 ロイター］ -＜１１：１６＞ ユーロ／ドルは1.13ドル後半で上値重い、目先は反発の予想もユーロ／ドルは１．１３８１ドル付近でもみあっているが、上値の重さも意識されている。ユーロ／円は１３１．４４円付近での取引。「ウクライナ情勢の緊迫化が嫌気され、欧州通貨の中でもユーロの軟調な地合いが続いている」（国内証券）という。バイデン米政権の高官は１６日、ウクライナ国境付近から軍部隊を撤収しているとのロシアの主張は「誤り」で、実際は部隊を最大７０００人増強しているとの見解を示した。ただ、ウクライナ問題が落ち着けば「金融政策正常化に向かう欧州中央銀行（ＥＣＢ）の動向が再び意識され、ユーロは反発するのではないか」（同）との予想も聞かれた。ドル／円は１１５．４９円付近でじり高となっている。＜０９：１８＞ ドル115円前半で小幅安、米ＦＯＭＣ議事要旨受け弱含みドル／円は１１５．３４円付近と、朝方に比べて小幅安での取引。米１０年債利回りは足元２％付近と高水準で推移している。昨日公表された１月の米連邦公開市場委員会（ＦＯＭＣ）議事要旨は「市場が予想していたほどタカ派的ではなかった」（アナリスト）と受け止められ、ドル売りにつながった。ただ、１月のＦＯＭＣ後に公表された米消費者物価指数（ＣＰＩ）や卸売物価指数（ＰＰＩ）はいずれも強い伸びを示しており、「最近のＦＲＢメンバーは、（１月のＦＯＭＣ時よりも）タカ派傾斜している可能性がある」（同）とも指摘されている。１月２５─２６日のＦＯＭＣ議事要旨では、物価上昇が根付き、雇用が力強い中、金融政策を引き締める時期が来たとの考えが示されていたことが分かった。同時に、決定は毎回の会合で実施するデータ分析に左右されるとの考えが示され、政策担当者が特定の道筋に固執していることを示す明白な兆候はみられなかった。＜０７：４７＞ ドル115.00─116.00円の見通し、上値重い 地政学リスク警戒きょうの予想レンジはドル／円が１１５．００―１１６．００円、ユーロ／ドルが１．１３２０─１．１４２０ドル、ユーロ／円が１３０．８０―１３１．８０円付近。現在、ドル／円は１１５．４４円付近、ユーロ／ドルは１．１３７５ドル付近、ユーロ／円は１３１．３１円付近で推移している。前日のニューヨーク市場では、ドルが下落し、１１日以来の安値を付けた。１月２５─２６日の連邦公開市場委員会（ＦＯＭＣ）議事要旨で、政策当局者が特定の利上げペースに固執していないことが示された。議事要旨の内容は市場が予想していたほどタカ派ではないと受け止められ、ドル売りにつながった。きょうの外為市場でドル／円相場は、上値の重い展開になるとみられ、ドルは１１５円半ばを中心とした推移が予想されている。ウクライナ情勢を巡る情報は錯綜しており、引き続き地政学リスクへの警戒感が意識されそうだ。上田東短フォレックスの営業企画室長・阪井勇蔵氏は「ドルは昨日の高値である１１５．８０円付近では利益確定売りが出やすい一方、米長期金利の高水準での推移が支えとなり、１１５円前半では買いが入りやすいのではないか」と指摘した。今週のドル／円相場は１１５円台での推移が続いており、「ドルの１１６円台定着には、ウクライナ情勢を巡る緊張状態の緩和など、もう少し強い材料が必要だ」（阪井氏）との声も聞かれた。主なスケジュールでは、国内では１月貿易統計（財務省）、２月月例経済報告などが公表される予定。海外では、オーストラリアで１月雇用統計（連邦統計局）、米国で新規失業保険申請件数などが発表されるほか、トルコ中銀が政策金利発表を行う予定となっている。全スポットレート（ロイターデータ）アジアスポットレート（同）欧州スポットレート（同）通貨オプションスポットレート（ロイター・ディーリング約定値）スポットレート（日銀公表）('],\n",
              " ['Ｆ１＝レッドブル、暗号資産取引所バイビットとスポンサー契約',\n",
              "  'https://jp.reuters.com/article/motor-f1-redbull-idJPKBN2KM07B',\n",
              "  datetime.datetime(2022, 2, 17, 2, 34, 4, tzinfo=tzlocal()),\n",
              "  ['Reuters Staff'],\n",
              "  '自動車レースＦ１のレッドブルは１６日、暗号資産取引所のバイビット社と複数年のパートナーシップ契約を締結し、国際スポーツ界においてこの分野で過去最高額の提携になったと発表した。写真は昨シーズンのマシン。２０２１年１２月にアブダビで撮影（２０２２年 ロイター）［１６日 ロイター］ - 自動車レースＦ１のレッドブルは１６日、暗号資産取引所のバイビット社と複数年のパートナーシップ契約を締結したと発表した。国際スポーツ界における仮想通貨企業の提携としては過去最高額。レッドブルは契約額の詳細を明らかにしていないが、情報筋によると３年で１億５０００万ドル（約１７３億円）の契約で、「タイトルパートナー」に次ぐ新設の「プリンシパルチームパートナー」になるとしている。レッドブルは先週、ソフトウエア大手オラクルとのタイトルスポンサー契約を発表。関係者によると、契約は５年間で３億ドル相当という。２つの契約の合計は年間１億１０００万ドルとなり、チームの支出を大部分カバーできる。Ｆ１では２０２２年シーズンから予算上限が１億４０００万ドル、２３年以降は１億３５００万ドルに縮小される。'],\n",
              " ['独ビオンテック、アフリカでのコピーワクチン容認へ＝ＣＥＯ',\n",
              "  'http://jp.reuters.com/article/health-coronavirus-vaccine-biontech-pate-idJPL4N2US0Q6?il=0',\n",
              "  datetime.datetime(2022, 2, 17, 2, 29, 2, tzinfo=tzlocal()),\n",
              "  ['Reuters Staff'],\n",
              "  '［１６日 ロイター］ - ドイツのバイオ医薬品企業ビオンテック のシャヒン最高経営責任者（ＣＥＯ）は１６日、ロイターテレビに対して、同社開発のワクチンについて、アフリカの事業者らが独自に非公式な形で製造する方法を考案した場合、自社の知的財産権を強硬に主張する考えはないと述べた。シャヒン氏は「われわれの目的は他社が当社の技術を使えないようにすることではなく、世界中でできるかぎり安全かつ広く利用できるよう積極的に取り計らうことだ」と語った。'],\n",
              " ['〔マーケットアイ〕外為：ユーロ／ドルは1.13ドル後半で上値重い、目先は反発の予想も',\n",
              "  'http://jp.reuters.com/article/tokyo-frx-idJPL4N2US0PN?il=0',\n",
              "  datetime.datetime(2022, 2, 17, 2, 29, 2, tzinfo=tzlocal()),\n",
              "  ['Reuters Staff'],\n",
              "  '［東京 １７日 ロイター］ -＜１１：１６＞ ユーロ／ドルは1.13ドル後半で上値重い、目先は反発の予想もユーロ／ドルは１．１３８１ドル付近でもみあっているが、上値の重さも意識されている。ユーロ／円は１３１．４４円付近での取引。「ウクライナ情勢の緊迫化が嫌気され、欧州通貨の中でもユーロの軟調な地合いが続いている」（国内証券）という。バイデン米政権の高官は１６日、ウクライナ国境付近から軍部隊を撤収しているとのロシアの主張は「誤り」で、実際は部隊を最大７０００人増強しているとの見解を示した。ただ、ウクライナ問題が落ち着けば「金融政策正常化に向かう欧州中央銀行（ＥＣＢ）の動向が再び意識され、ユーロは反発するのではないか」（同）との予想も聞かれた。ドル／円は１１５．４９円付近でじり高となっている。＜０９：１８＞ ドル115円前半で小幅安、米ＦＯＭＣ議事要旨受け弱含みドル／円は１１５．３４円付近と、朝方に比べて小幅安での取引。米１０年債利回りは足元２％付近と高水準で推移している。昨日公表された１月の米連邦公開市場委員会（ＦＯＭＣ）議事要旨は「市場が予想していたほどタカ派的ではなかった」（アナリスト）と受け止められ、ドル売りにつながった。ただ、１月のＦＯＭＣ後に公表された米消費者物価指数（ＣＰＩ）や卸売物価指数（ＰＰＩ）はいずれも強い伸びを示しており、「最近のＦＲＢメンバーは、（１月のＦＯＭＣ時よりも）タカ派傾斜している可能性がある」（同）とも指摘されている。１月２５─２６日のＦＯＭＣ議事要旨では、物価上昇が根付き、雇用が力強い中、金融政策を引き締める時期が来たとの考えが示されていたことが分かった。同時に、決定は毎回の会合で実施するデータ分析に左右されるとの考えが示され、政策担当者が特定の道筋に固執していることを示す明白な兆候はみられなかった。＜０７：４７＞ ドル115.00─116.00円の見通し、上値重い 地政学リスク警戒きょうの予想レンジはドル／円が１１５．００―１１６．００円、ユーロ／ドルが１．１３２０─１．１４２０ドル、ユーロ／円が１３０．８０―１３１．８０円付近。現在、ドル／円は１１５．４４円付近、ユーロ／ドルは１．１３７５ドル付近、ユーロ／円は１３１．３１円付近で推移している。前日のニューヨーク市場では、ドルが下落し、１１日以来の安値を付けた。１月２５─２６日の連邦公開市場委員会（ＦＯＭＣ）議事要旨で、政策当局者が特定の利上げペースに固執していないことが示された。議事要旨の内容は市場が予想していたほどタカ派ではないと受け止められ、ドル売りにつながった。きょうの外為市場でドル／円相場は、上値の重い展開になるとみられ、ドルは１１５円半ばを中心とした推移が予想されている。ウクライナ情勢を巡る情報は錯綜しており、引き続き地政学リスクへの警戒感が意識されそうだ。上田東短フォレックスの営業企画室長・阪井勇蔵氏は「ドルは昨日の高値である１１５．８０円付近では利益確定売りが出やすい一方、米長期金利の高水準での推移が支えとなり、１１５円前半では買いが入りやすいのではないか」と指摘した。今週のドル／円相場は１１５円台での推移が続いており、「ドルの１１６円台定着には、ウクライナ情勢を巡る緊張状態の緩和など、もう少し強い材料が必要だ」（阪井氏）との声も聞かれた。主なスケジュールでは、国内では１月貿易統計（財務省）、２月月例経済報告などが公表される予定。海外では、オーストラリアで１月雇用統計（連邦統計局）、米国で新規失業保険申請件数などが発表されるほか、トルコ中銀が政策金利発表を行う予定となっている。全スポットレート（ロイターデータ）アジアスポットレート（同）欧州スポットレート（同）通貨オプションスポットレート（ロイター・ディーリング約定値）スポットレート（日銀公表）('],\n",
              " ['Ｆ１＝レッドブル、暗号資産取引所バイビットとスポンサー契約',\n",
              "  'http://jp.reuters.com/article/motor-f1-redbull-idJPKBN2KM07B',\n",
              "  datetime.datetime(2022, 2, 17, 2, 34, 4, tzinfo=tzlocal()),\n",
              "  ['Reuters Staff'],\n",
              "  '自動車レースＦ１のレッドブルは１６日、暗号資産取引所のバイビット社と複数年のパートナーシップ契約を締結し、国際スポーツ界においてこの分野で過去最高額の提携になったと発表した。写真は昨シーズンのマシン。２０２１年１２月にアブダビで撮影（２０２２年 ロイター）［１６日 ロイター］ - 自動車レースＦ１のレッドブルは１６日、暗号資産取引所のバイビット社と複数年のパートナーシップ契約を締結したと発表した。国際スポーツ界における仮想通貨企業の提携としては過去最高額。レッドブルは契約額の詳細を明らかにしていないが、情報筋によると３年で１億５０００万ドル（約１７３億円）の契約で、「タイトルパートナー」に次ぐ新設の「プリンシパルチームパートナー」になるとしている。レッドブルは先週、ソフトウエア大手オラクルとのタイトルスポンサー契約を発表。関係者によると、契約は５年間で３億ドル相当という。２つの契約の合計は年間１億１０００万ドルとなり、チームの支出を大部分カバーできる。Ｆ１では２０２２年シーズンから予算上限が１億４０００万ドル、２３年以降は１億３５００万ドルに縮小される。'],\n",
              " ['Struggles to survive in the Amazon',\n",
              "  'https://widerimage.reuters.com/story/struggles-to-survive-in-the-amazon',\n",
              "  None,\n",
              "  ['Lunae Parracho'],\n",
              "  'The Bravos have carried out raids on other villages, putting communities along the Envira River on permanent alert.\\nA spiritual leader of the Huni Kui Indian tribe blows an herbal powder into the nose of a tribe member during a ceremony.\\nA Huni Kui Indian prepares a drink known as \"nixi pae\" or \"ayahuasca\" to use in a healing ritual.\\nThe Ashaninka Indian village Nova Floresta stands on the banks of the Envira river.\\nUncontacted Indians react to a plane flying over their community in the Amazon basin.']]"
            ]
          },
          "metadata": {},
          "execution_count": 27
        }
      ]
    },
    {
      "cell_type": "markdown",
      "source": [
        "### csvファイルに書き出し"
      ],
      "metadata": {
        "id": "18teSZIli6iL"
      }
    },
    {
      "cell_type": "code",
      "source": [
        "import csv\n",
        "import datetime"
      ],
      "metadata": {
        "id": "O79hQYq0rSQL"
      },
      "execution_count": 62,
      "outputs": []
    },
    {
      "cell_type": "code",
      "source": [
        "csv_date = datetime.datetime.today().strftime(\"%Y%m%d\")"
      ],
      "metadata": {
        "id": "UyeAWsX1jAPg"
      },
      "execution_count": 63,
      "outputs": []
    },
    {
      "cell_type": "code",
      "source": [
        "csv_file_name = \"Reuters_\" + csv_date + \".csv\""
      ],
      "metadata": {
        "id": "EnbMh8cjjUfk"
      },
      "execution_count": 64,
      "outputs": []
    },
    {
      "cell_type": "code",
      "source": [
        "f = open(csv_file_name, \"w\", encoding=\"cp932\", errors=\"ignore\")"
      ],
      "metadata": {
        "id": "7_ViF4gtjfs_"
      },
      "execution_count": 65,
      "outputs": []
    },
    {
      "cell_type": "code",
      "source": [
        "writer = csv.writer(f, lineterminator=\"\\n\")"
      ],
      "metadata": {
        "id": "boxfO9mWjvwk"
      },
      "execution_count": 66,
      "outputs": []
    },
    {
      "cell_type": "code",
      "source": [
        "csv_header = [\"記事番号\", \"タイトル\", \"URL\", \"出版日\", \"筆者\", \"本文要約\"]"
      ],
      "metadata": {
        "id": "f_exP4p1j5V1"
      },
      "execution_count": 67,
      "outputs": []
    },
    {
      "cell_type": "code",
      "source": [
        "writer.writerow(csv_header)"
      ],
      "metadata": {
        "colab": {
          "base_uri": "https://localhost:8080/"
        },
        "id": "Jy7ZkJenkEKX",
        "outputId": "1b6d072b-912a-4092-beb6-053cf4bed8f8"
      },
      "execution_count": 68,
      "outputs": [
        {
          "output_type": "execute_result",
          "data": {
            "text/plain": [
              "26"
            ]
          },
          "metadata": {},
          "execution_count": 68
        }
      ]
    },
    {
      "cell_type": "code",
      "source": [
        "#CSVに1行1行入力していく\n",
        "\n",
        "i = 1\n",
        "\n",
        "#繰り返し文により、記事を一つずつ取得し、情報の取得を行う\n",
        "for article in toppage.articles:\n",
        "  #csv格納用のリスト\n",
        "  csvlist = []\n",
        "\n",
        "  #内容の取得\n",
        "  article.download()\n",
        "  #内容の解析\n",
        "  article.parse()\n",
        "  #自然言語処理\n",
        "  article.nlp()\n",
        "\n",
        "  #内容の格納\n",
        "  csvlist.append(str(i))\n",
        "  csvlist.append(article.title)\n",
        "  csvlist.append(article.url)\n",
        "  csvlist.append(article.publish_date)\n",
        "  csvlist.append(article.authors)\n",
        "  csvlist.append(article.summary)\n",
        "  writer.writerow(csvlist)\n",
        "\n",
        "  i += 1"
      ],
      "metadata": {
        "id": "fDr3DLqOkTE9"
      },
      "execution_count": 69,
      "outputs": []
    },
    {
      "cell_type": "code",
      "source": [
        "#ファイルをしっかりと閉じる\n",
        "f.close()"
      ],
      "metadata": {
        "id": "IS5BydwHltGq"
      },
      "execution_count": 70,
      "outputs": []
    },
    {
      "cell_type": "code",
      "source": [
        ""
      ],
      "metadata": {
        "id": "aKGamoKtmHCh"
      },
      "execution_count": null,
      "outputs": []
    }
  ]
}
